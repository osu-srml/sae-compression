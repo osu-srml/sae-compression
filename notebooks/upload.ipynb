{
 "cells": [
  {
   "cell_type": "code",
   "execution_count": 2,
   "metadata": {},
   "outputs": [],
   "source": [
    "import torch as t\n",
    "import torch.nn as nn\n",
    "from huggingface_hub import PyTorchModelHubMixin\n",
    "import sae_lens"
   ]
  },
  {
   "cell_type": "code",
   "execution_count": null,
   "metadata": {},
   "outputs": [
    {
     "data": {
      "application/vnd.jupyter.widget-view+json": {
       "model_id": "0f67d22bb1dc44ab8607e0cb2b96c37c",
       "version_major": 2,
       "version_minor": 0
      },
      "text/plain": [
       "gemma-2-2b_wanda.pth:   0%|          | 0.00/15.0G [00:00<?, ?B/s]"
      ]
     },
     "metadata": {},
     "output_type": "display_data"
    },
    {
     "data": {
      "text/plain": [
       "CommitInfo(commit_url='https://huggingface.co/suchitg/gemma-2-2b-pruned/commit/df589dd2c69ef52bf166ab41ad4a41e2861934cc', commit_message='Upload gemma-2-2b_wanda.pth with huggingface_hub', commit_description='', oid='df589dd2c69ef52bf166ab41ad4a41e2861934cc', pr_url=None, repo_url=RepoUrl('https://huggingface.co/suchitg/gemma-2-2b-pruned', endpoint='https://huggingface.co', repo_type='model', repo_id='suchitg/gemma-2-2b-pruned'), pr_revision=None, pr_num=None)"
      ]
     },
     "execution_count": 4,
     "metadata": {},
     "output_type": "execute_result"
    }
   ],
   "source": [
    "from huggingface_hub import HfApi\n",
    "api = HfApi()\n",
    "\n",
    "api.upload_file(\n",
    "    path_or_fileobj=\"/home/gupte.31/COLM/sae-compression/gemma2b/pruned/gemma-2-2b_wanda.pth\",\n",
    "    path_in_repo=\"gemma-2-2b_wanda.pth\",\n",
    "    repo_id=\"suchitg/pruned\",\n",
    "    repo_type=\"model\",\n",
    ")"
   ]
  },
  {
   "cell_type": "code",
   "execution_count": null,
   "metadata": {},
   "outputs": [
    {
     "data": {
      "application/vnd.jupyter.widget-view+json": {
       "model_id": "cd9a35160eb444d7a38d144b079b6de6",
       "version_major": 2,
       "version_minor": 0
      },
      "text/plain": [
       "gpt2-small_wanda.pth:   0%|          | 0.00/665M [00:00<?, ?B/s]"
      ]
     },
     "metadata": {},
     "output_type": "display_data"
    },
    {
     "data": {
      "text/plain": [
       "CommitInfo(commit_url='https://huggingface.co/suchitg/pruned/commit/a4906862b76cfda6e46cb6d712c8cd4ff7c7c8a1', commit_message='Upload gpt2-small_wanda.pth with huggingface_hub', commit_description='', oid='a4906862b76cfda6e46cb6d712c8cd4ff7c7c8a1', pr_url=None, repo_url=RepoUrl('https://huggingface.co/suchitg/pruned', endpoint='https://huggingface.co', repo_type='model', repo_id='suchitg/pruned'), pr_revision=None, pr_num=None)"
      ]
     },
     "execution_count": 5,
     "metadata": {},
     "output_type": "execute_result"
    }
   ],
   "source": [
    "from huggingface_hub import HfApi\n",
    "api = HfApi()\n",
    "\n",
    "api.upload_file(\n",
    "    path_or_fileobj=\"/home/gupte.31/COLM/sae-compression/gpt2-small/pruned/gpt2-small_wanda.pth\",\n",
    "    path_in_repo=\"gpt2-small_wanda.pth\",\n",
    "    repo_id=\"suchitg/pruned\",\n",
    "    repo_type=\"model\",\n",
    ")\n"
   ]
  },
  {
   "cell_type": "code",
   "execution_count": 1,
   "metadata": {},
   "outputs": [
    {
     "data": {
      "text/plain": [
       "CommitInfo(commit_url='https://huggingface.co/suchitg/pruned/commit/3284230acc948c11387b2cae036069285a2ab50e', commit_message='Upload env.yaml with huggingface_hub', commit_description='', oid='3284230acc948c11387b2cae036069285a2ab50e', pr_url=None, repo_url=RepoUrl('https://huggingface.co/suchitg/pruned', endpoint='https://huggingface.co', repo_type='model', repo_id='suchitg/pruned'), pr_revision=None, pr_num=None)"
      ]
     },
     "execution_count": 1,
     "metadata": {},
     "output_type": "execute_result"
    }
   ],
   "source": [
    "from huggingface_hub import HfApi\n",
    "api = HfApi()\n",
    "\n",
    "api.upload_file(\n",
    "    path_or_fileobj=\"/home/gupte.31/COLM/sae-compression/env.yaml\",\n",
    "    path_in_repo=\"env.yaml\",\n",
    "    repo_id=\"suchitg/pruned\",\n",
    "    repo_type=\"model\",\n",
    ")\n"
   ]
  },
  {
   "cell_type": "code",
   "execution_count": null,
   "metadata": {},
   "outputs": [],
   "source": []
  }
 ],
 "metadata": {
  "kernelspec": {
   "display_name": "SAE",
   "language": "python",
   "name": "python3"
  },
  "language_info": {
   "codemirror_mode": {
    "name": "ipython",
    "version": 3
   },
   "file_extension": ".py",
   "mimetype": "text/x-python",
   "name": "python",
   "nbconvert_exporter": "python",
   "pygments_lexer": "ipython3",
   "version": "3.10.16"
  }
 },
 "nbformat": 4,
 "nbformat_minor": 2
}
